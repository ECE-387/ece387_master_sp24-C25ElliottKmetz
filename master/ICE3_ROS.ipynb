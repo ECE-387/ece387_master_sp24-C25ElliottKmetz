{
 "cells": [
  {
   "cell_type": "markdown",
   "id": "14c35d29",
   "metadata": {},
   "source": [
    "# Module 3: Python3 for Robotics\n",
    "## In-Class Exercise 3 - ROS\n",
    "Below you will run ROS commands. The \"!\" character in the front allows us to run bash commands from Jupyter and would **NOT** be used in the command line.\n",
    "\n",
    "With the client and server nodes running execute the below commands."
   ]
  },
  {
   "cell_type": "markdown",
   "id": "99b59339",
   "metadata": {},
   "source": [
    "List all running nodes:"
   ]
  },
  {
   "cell_type": "code",
   "execution_count": 2,
   "id": "ccc6bdb6",
   "metadata": {},
   "outputs": [
    {
     "name": "stdout",
     "output_type": "stream",
     "text": [
      "/rosout\r\n"
     ]
    }
   ],
   "source": [
    "!rosnode list"
   ]
  },
  {
   "cell_type": "markdown",
   "id": "bc15f79e",
   "metadata": {},
   "source": [
    "List the active topics:"
   ]
  },
  {
   "cell_type": "code",
   "execution_count": 3,
   "id": "ae81f863",
   "metadata": {},
   "outputs": [
    {
     "name": "stdout",
     "output_type": "stream",
     "text": [
      "/rosout\r\n",
      "/rosout_agg\r\n"
     ]
    }
   ],
   "source": [
    "!rostopic list"
   ]
  },
  {
   "cell_type": "markdown",
   "id": "935cbb36",
   "metadata": {},
   "source": [
    "Display running nodes and communication between them:"
   ]
  },
  {
   "cell_type": "code",
   "execution_count": null,
   "id": "0860b552",
   "metadata": {},
   "outputs": [],
   "source": [
    "!rqt_graph"
   ]
  },
  {
   "cell_type": "markdown",
   "id": "feba02be",
   "metadata": {},
   "source": [
    "Exit the rqt_graph.\n",
    "\n",
    "Show information about a the **/client** topic such as what type of messages are sent over the topic and publishing and subscribing nodes."
   ]
  },
  {
   "cell_type": "code",
   "execution_count": null,
   "id": "e8186f65",
   "metadata": {},
   "outputs": [],
   "source": [
    "!rostopic info /client"
   ]
  },
  {
   "cell_type": "markdown",
   "id": "619a0402",
   "metadata": {},
   "source": [
    "Display information about the message that is sent over the **/client** topic."
   ]
  },
  {
   "cell_type": "code",
   "execution_count": null,
   "id": "99d83883",
   "metadata": {},
   "outputs": [],
   "source": [
    "!rosmsg "
   ]
  },
  {
   "cell_type": "markdown",
   "id": "c1827374",
   "metadata": {},
   "source": [
    "Display messages sent over the **/client** topic:"
   ]
  },
  {
   "cell_type": "code",
   "execution_count": null,
   "id": "cf48678a",
   "metadata": {},
   "outputs": [],
   "source": [
    "!rostopic echo /client"
   ]
  },
  {
   "cell_type": "markdown",
   "id": "39e554c2",
   "metadata": {},
   "source": [
    "In the ICE3_Client notebook when you send a message you should see the message echoed above.\n",
    "\n",
    "## Checkpoint\n",
    "Once complete, take the necessary screen shots of all the items above functioning. Upload those screenshots to your repo in a Module03 folder within the master folder of your repo."
   ]
  },
  {
   "cell_type": "markdown",
   "id": "84f05c5b",
   "metadata": {},
   "source": [
    "## Cleanup\n",
    "In each of the notebooks reset the Jupter kernel and clear output. Close each notebook. Shutdown the notebook server by typing `ctrl+c` within the terminal you ran `jupyter-notebook` in. Select 'y'."
   ]
  }
 ],
 "metadata": {
  "kernelspec": {
   "display_name": "Python 3",
   "language": "python",
   "name": "python3"
  },
  "language_info": {
   "codemirror_mode": {
    "name": "ipython",
    "version": 3
   },
   "file_extension": ".py",
   "mimetype": "text/x-python",
   "name": "python",
   "nbconvert_exporter": "python",
   "pygments_lexer": "ipython3",
   "version": "3.8.10"
  },
  "toc": {
   "base_numbering": 1,
   "nav_menu": {},
   "number_sections": true,
   "sideBar": true,
   "skip_h1_title": false,
   "title_cell": "Table of Contents",
   "title_sidebar": "Contents",
   "toc_cell": false,
   "toc_position": {},
   "toc_section_display": true,
   "toc_window_display": false
  }
 },
 "nbformat": 4,
 "nbformat_minor": 5
}
